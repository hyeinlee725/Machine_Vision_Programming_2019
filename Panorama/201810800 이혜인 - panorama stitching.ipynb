{
 "cells": [
  {
   "cell_type": "code",
   "execution_count": 2,
   "metadata": {},
   "outputs": [],
   "source": [
    "import cv2\n",
    "import numpy as np\n",
    "\n",
    "## 테스트할 이미지\n",
    "img_1 = cv2.imread('left.jpg')\n",
    "img_1 = cv2.resize(img_1, None, fx=0.5, fy=0.5)\n",
    "gray_1 = cv2.cvtColor(img_1,cv2.COLOR_BGR2GRAY)\n",
    "img_2 = cv2.imread('right.jpg')\n",
    "img_2 = cv2.resize(img_2, None, fx=0.5, fy=0.5)\n",
    "gray_2 = cv2.cvtColor(img_2,cv2.COLOR_BGR2GRAY)\n",
    "\n",
    "## 이미지 확인\n",
    "cv2.imshow('image 1', img_1)\n",
    "cv2.imshow('image 2', img_2)\n",
    "cv2.waitKey(0)\n",
    "\n",
    "cv2.destroyAllWindows()"
   ]
  },
  {
   "cell_type": "code",
   "execution_count": 3,
   "metadata": {},
   "outputs": [],
   "source": [
    "## 1) 각각의 영상에서 SIFT 특징 추출\n",
    "#sift 검출기 생성, 각 영상에 대해서 keypoint와 특징 기술자를 뽑아줌\n",
    "sift = cv2.xfeatures2d.SIFT_create()\n",
    "kp_1, des_1 = sift.detectAndCompute(gray_1, None)\n",
    "kp_2, des_2 = sift.detectAndCompute(gray_2, None)\n",
    "\n",
    "## 2-1) 두 영상의 지역 특징 간 거리 계산\n",
    "bf = cv2.BFMatcher() \n",
    "matches = bf.knnMatch(queryDescriptors = des_1,\n",
    "                      trainDescriptors = des_2,\n",
    "                      k=2)  \n",
    "\n",
    "## 2-2) '최근접 거리 비율' 매칭 전략('ratio testing')을 사용하여 대응점 쌍 생성\n",
    "ratio = 0.7 \n",
    "good = []    \n",
    "for m,n in matches:\n",
    "    if m.distance < n.distance * ratio:\n",
    "        good.append(m)"
   ]
  },
  {
   "cell_type": "code",
   "execution_count": 4,
   "metadata": {},
   "outputs": [
    {
     "name": "stdout",
     "output_type": "stream",
     "text": [
      "243\n"
     ]
    }
   ],
   "source": [
    "## optional) SIFT 특징점 매칭 결과 확인하기\n",
    "print(len(good))\n",
    "matched = cv2.drawMatches(img1 = img_1, \n",
    "                          keypoints1 = kp_1, \n",
    "                          img2 = img_2, \n",
    "                          keypoints2 = kp_2, \n",
    "                          matches1to2 = good[:20],   # 첫 20개 매칭쌍만 시각화\n",
    "                          outImg = None, \n",
    "                          flags = 2)\n",
    "\n",
    "cv2.imshow('matching result', matched)\n",
    "cv2.waitKey(0)\n",
    "\n",
    "cv2.destroyAllWindows()"
   ]
  },
  {
   "cell_type": "code",
   "execution_count": 5,
   "metadata": {},
   "outputs": [],
   "source": [
    "## 3) RANSAC을 이용한 변환 행렬 H 추정\n",
    "if len(good) >= 4:   # 4개 이상의 대응점이 존재해야 원근 변환 행렬을 추정 가능\n",
    "    src_pts = np.float32([ kp_2[m.trainIdx].pt for m in good ]).reshape(-1,1,2)\n",
    "    dst_pts = np.float32([ kp_1[m.queryIdx].pt for m in good ]).reshape(-1,1,2)\n",
    "    H, _ = cv2.findHomography(srcPoints = src_pts, #3차원의 물체를 원근변환해주는 것을 의미\n",
    "                              dstPoints = dst_pts, \n",
    "                              method = cv2.RANSAC, #RANSAC을 이용함 --> RANSAC을 기반으로 변환행렬 추적\n",
    "                              ransacReprojThreshold = 5) \n",
    "\n",
    "    \n",
    "else:\n",
    "    raise AssertionError(\"Can't find enough keypoints.\")"
   ]
  },
  {
   "cell_type": "markdown",
   "metadata": {},
   "source": [
    "### Homework ( ~ 12/02 12:00)\n",
    "- 아래 코드의 '4) 원근 변환 적용', '5) 두 영상을 한 장으로 이어붙이기' 부분을 완성하여 파노라마 영상 만들기"
   ]
  },
  {
   "cell_type": "code",
   "execution_count": 8,
   "metadata": {},
   "outputs": [],
   "source": [
    "## 4) 원근 변환 적용\n",
    "img_3 = cv2.warpPerspective(img_2, H, (img_1.shape[1] * 2, img_1.shape[0]))\n",
    "\n",
    "for i in range(img_1.shape[0]):\n",
    "    for j in range(img_1.shape[1]):\n",
    "        #img_3[i][j] = img_1[i][j]\n",
    "        img_3[i][j] = img_1[i][j].copy()\n",
    "res = img_3\n",
    "\n",
    "## 결과 파노라마 영상 시각화\n",
    "cv2.imshow('panorama', res)\n",
    "cv2.waitKey(0)\n",
    "\n",
    "cv2.destroyAllWindows()"
   ]
  }
 ],
 "metadata": {
  "kernelspec": {
   "display_name": "Python 3",
   "language": "python",
   "name": "python3"
  },
  "language_info": {
   "codemirror_mode": {
    "name": "ipython",
    "version": 3
   },
   "file_extension": ".py",
   "mimetype": "text/x-python",
   "name": "python",
   "nbconvert_exporter": "python",
   "pygments_lexer": "ipython3",
   "version": "3.8.8"
  }
 },
 "nbformat": 4,
 "nbformat_minor": 2
}
