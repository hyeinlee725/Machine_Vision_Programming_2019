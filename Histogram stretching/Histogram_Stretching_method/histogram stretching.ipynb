{
 "cells": [
  {
   "cell_type": "markdown",
   "metadata": {},
   "source": [
    "# 방법 1 - 직접 상한/하한 화소값을 탐색하는 방법"
   ]
  },
  {
   "cell_type": "code",
   "execution_count": 1,
   "metadata": {},
   "outputs": [
    {
     "data": {
      "image/png": "[encoded data removed]",
      "text/plain": [
       "<Figure size 432x288 with 1 Axes>"
      ]
     },
     "metadata": {
      "needs_background": "light"
     },
     "output_type": "display_data"
    }
   ],
   "source": [
    "import cv2\n",
    "import numpy as np\n",
    "import matplotlib.pyplot as plt\n",
    "%matplotlib inline\n",
    "\n",
    "def percentile_stretching(img, p_low, p_high):\n",
    "    '''\n",
    "    percentile stretching 함수\n",
    "    \n",
    "    Parameters\n",
    "    ----------\n",
    "    p_low: int (0~100)\n",
    "        percentile stretching을 수행하기 위한 하위 백분율\n",
    "    p_high: int (0~100)\n",
    "        percentile stretching을 수행하기 위한 상위 백분율\n",
    "    \n",
    "    Returns\n",
    "    -------\n",
    "    img_ptile: array\n",
    "        percentile stretching 처리된 이미지 배열\n",
    "    \n",
    "    '''\n",
    "    # 누적 히스토그램 계산\n",
    "    hist, _ = np.histogram(img, 256, [0,256]) # 리턴값 중 bins는 사용하지 않음\n",
    "    cdf = hist.cumsum()\n",
    "\n",
    "    # p_low 및 p_high 백분위에 해당하는 누적 히스토그램 값 계산\n",
    "    hist_low = cdf[-1]/100*p_low    # 누적 히스토그램의 마지막 열 값 == 영상의 전체 픽셀 개수\n",
    "    hist_high = cdf[-1]/100*p_high\n",
    "\n",
    "    # 히스토그램에서 하한에 해당하는 화소값 탐색\n",
    "    o_min = 255\n",
    "    for i in range(256):\n",
    "        if cdf[i] > hist_low:\n",
    "            o_min = i\n",
    "            break\n",
    "\n",
    "    # 히스토그램에서 상한에 해당하는 화소값 탐색\n",
    "    o_max = 0\n",
    "    for i in range(255,-1,-1): # 255부터 0까지 역순으로 순회\n",
    "        if cdf[i] < hist_high:\n",
    "            o_max = i+1\n",
    "            break\n",
    "\n",
    "    # min,max값을 기준으로 0~255 값으로 정규화 (img 배열의 overflow 발생을 방지하기 위해 데이터 타입을 float으로 변환)\n",
    "    img_ptile = (img.astype('float32') - o_min) / (o_max - o_min) * 255.0\n",
    "\n",
    "    # 영상의 화소값을 0~255 범위로 맞춤 (0보다 작으면 0으로, 255보다 크면 255로)\n",
    "    img_ptile[img_ptile < 0] = 0\n",
    "    img_ptile[img_ptile > 255] = 255.0\n",
    "    \n",
    "    img_ptile = img_ptile.astype('uint8')  # 현재 img_tile 배열의 데이터 타입이 float이므로 uint8로 변환해 줌\n",
    "    \n",
    "    return img_ptile\n",
    "    \n",
    "\n",
    "# 이미지 파일 읽어오기\n",
    "img = cv2.imread('landscape.jpg')\n",
    "\n",
    "# percentile stretching 수행하기\n",
    "img_percentile = percentile_stretching(img, 3, 97)\n",
    "\n",
    "# 히스토그램 생성하기\n",
    "hist, bins = np.histogram(img_percentile, 256, [0,256])\n",
    "\n",
    "# 정규화된 누적 히스토그램 생성하기\n",
    "cdf = hist.cumsum()\n",
    "cdf_normalized = cdf * hist.max() / cdf.max()\n",
    "\n",
    "# 히스토그램 시각화하기\n",
    "plt.plot(cdf_normalized, color='b')\n",
    "plt.hist(img_percentile.flatten(), 256, [0,256], color='r')\n",
    "plt.xlim([0,256])\n",
    "plt.legend(['cdf', 'histogram'], loc='upper left')\n",
    "plt.show()\n",
    "\n",
    "# 이미지 창 띄우기\n",
    "cv2.imshow('image', img_percentile)\n",
    "cv2.waitKey()\n",
    "\n",
    "cv2.destroyAllWindows()"
   ]
  },
  {
   "cell_type": "markdown",
   "metadata": {},
   "source": [
    "# 방법 2 - Numpy 함수를 활용하는 방법"
   ]
  },
  {
   "cell_type": "code",
   "execution_count": 2,
   "metadata": {},
   "outputs": [
    {
     "data": {
      "image/png": "[encoded data removed]",
      "text/plain": [
       "<Figure size 432x288 with 1 Axes>"
      ]
     },
     "metadata": {
      "needs_background": "light"
     },
     "output_type": "display_data"
    }
   ],
   "source": [
    "import cv2\n",
    "import numpy as np\n",
    "import matplotlib.pyplot as plt\n",
    "%matplotlib inline\n",
    "\n",
    "def percentile_stretching(img, p_low, p_high):\n",
    "    '''\n",
    "    percentile stretching 함수\n",
    "    \n",
    "    Parameters\n",
    "    ----------\n",
    "    p_low: int (0~100)\n",
    "        percentile stretching을 수행하기 위한 하위 백분율\n",
    "    p_high: int (0~100)\n",
    "        percentile stretching을 수행하기 위한 상위 백분율\n",
    "    \n",
    "    Returns\n",
    "    -------\n",
    "    img_ptile: array\n",
    "        percentile stretching 처리된 이미지 배열\n",
    "    \n",
    "    '''\n",
    "    # np.percentile()을 사용하여 min, max 화소값 계산\n",
    "    o_min = np.percentile(img, p_low)\n",
    "    o_max = np.percentile(img, p_high)\n",
    "    \n",
    "    img_ptile = (img - o_min) / float(o_max - o_min) * 255.0    # min,max값을 기준으로 0~255 값으로 정규화\n",
    "    img_ptile = np.clip(img_ptile, 0, 255)    # 영상의 화소값을 0~255 범위로 맞춤 (0보다 작으면 0으로, 255보다 크면 255로)\n",
    "\n",
    "    img_ptile = img_ptile.astype('uint8')  # 현재 img_tile 배열의 데이터 타입이 float이므로 uint8로 변환해 줌\n",
    "    \n",
    "    return img_ptile\n",
    "    \n",
    "\n",
    "# 이미지 파일 읽어오기\n",
    "img = cv2.imread('landscape.jpg')\n",
    "\n",
    "# percentile stretching 수행하기\n",
    "img_percentile = percentile_stretching(img, 3, 97)\n",
    "\n",
    "# 히스토그램 생성하기\n",
    "hist, bins = np.histogram(img_percentile, 256, [0,256])\n",
    "\n",
    "# 정규화된 누적 히스토그램 생성하기\n",
    "cdf = hist.cumsum()\n",
    "cdf_normalized = cdf * hist.max() / cdf.max()\n",
    "\n",
    "# 히스토그램 시각화하기\n",
    "plt.plot(cdf_normalized, color='b')\n",
    "plt.hist(img_percentile.flatten(), 256, [0,256], color='r')\n",
    "plt.xlim([0,256])\n",
    "plt.legend(['cdf', 'histogram'], loc='upper left')\n",
    "plt.show()\n",
    "\n",
    "# 이미지 창 띄우기\n",
    "cv2.imshow('image', img_percentile)\n",
    "cv2.waitKey()\n",
    "\n",
    "cv2.destroyAllWindows()"
   ]
  }
 ],
 "metadata": {
  "kernelspec": {
   "display_name": "Python 3",
   "language": "python",
   "name": "python3"
  },
  "language_info": {
   "codemirror_mode": {
    "name": "ipython",
    "version": 3
   },
   "file_extension": ".py",
   "mimetype": "text/x-python",
   "name": "python",
   "nbconvert_exporter": "python",
   "pygments_lexer": "ipython3",
   "version": "3.7.3"
  }
 },
 "nbformat": 4,
 "nbformat_minor": 2
}
