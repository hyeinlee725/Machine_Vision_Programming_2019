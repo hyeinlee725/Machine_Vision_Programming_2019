{
 "cells": [
  {
   "cell_type": "markdown",
   "metadata": {},
   "source": [
    "# 1. SIFT(Scale Invariant Feature Transform)  \n",
    "\n",
    "- 특징 기술자  \n",
    "① 크기에 불변한(scale invariant) key point들을 검출  \n",
    "② 각 keypoint의 주변에 윈도우를 만들어 지배(dominant) 방향을 계산  \n",
    "③ 각 keypoint 주변에 적절한 크기의 윈도우를 씌운 후 16(4×4)개 block으로 분할하여 block마다 8개 bin을 갖는 히스토그램을 생성 => 16×8 = 128 길이의 특징 벡터 생성 (이 때, 각 block의 각도 bin에서 ②에서 구한 key point의 지배 방향이 기준이 되도록 설정함으로써 방향 불변성 달성)\n",
    "\n",
    "<br>\n",
    "\n",
    "- 특징\n",
    "  - 이동(translation), 크기(scale) 및 회전(rotation)에 불변인 특징 검출 방법\n",
    "\n",
    "#### Tip  \n",
    "- OpenCV 공식 버전에는 SIFT, SURF 등 특허 등록된 알고리즘은 포함되어 있지 않으므로, **opencv-contrib-python==3.4.2.16** 버전을 추가로 설치해야 함\n",
    "\n",
    "#### Reference\n",
    "[link #1 - blog](https://bskyvision.com/21)  \n",
    "[link #2 - OpenCV tutorial](https://opencv-python-tutroals.readthedocs.io/en/latest/py_tutorials/py_feature2d/py_matcher/py_matcher.html)"
   ]
  },
  {
   "cell_type": "markdown",
   "metadata": {},
   "source": [
    "# 2. Application\n",
    "## 1) Keypoint detection and visualization"
   ]
  },
  {
   "cell_type": "code",
   "execution_count": 1,
   "metadata": {},
   "outputs": [],
   "source": [
    "import cv2\n",
    "import numpy as np\n",
    "\n",
    "img = cv2.imread('butterfly.png')\n",
    "gray = cv2.cvtColor(img, cv2.COLOR_BGR2GRAY)\n",
    "\n",
    "## SIFT 검출기 생성\n",
    "sift = cv2.xfeatures2d.SIFT_create()\n",
    "\n",
    "## SIFT 특징 검출\n",
    "keypoints = sift.detect(image=gray, \n",
    "                        mask=None)\n",
    "\n",
    "## keypoint 시각화\n",
    "## https://docs.opencv.org/2.4/modules/features2d/doc/drawing_function_of_keypoints_and_matches.html#drawkeypoints\n",
    "res = cv2.drawKeypoints(image = gray, \n",
    "                        keypoints = keypoints,\n",
    "                        outImage = None)\n",
    "\n",
    "res_with_rich = cv2.drawKeypoints(image = gray, \n",
    "                                  keypoints = keypoints,\n",
    "                                  outImage = None,\n",
    "                                  flags=cv2.DRAW_MATCHES_FLAGS_DRAW_RICH_KEYPOINTS)\n",
    "\n",
    "cv2.imshow('keypoints', res)\n",
    "cv2.imshow('keypoints_with_size_and_orientation', res_with_rich)\n",
    "cv2.waitKey(0)\n",
    "cv2.destroyAllWindows()"
   ]
  },
  {
   "cell_type": "markdown",
   "metadata": {
    "collapsed": true
   },
   "source": [
    "## 2) Feature matching"
   ]
  },
  {
   "cell_type": "code",
   "execution_count": 15,
   "metadata": {},
   "outputs": [],
   "source": [
    "import numpy as np\n",
    "import cv2\n",
    "\n",
    "# 이미지 불러오기\n",
    "img_query = cv2.imread('box.png')           # query image\n",
    "\n",
    "# ## 이미지 회전, 크기 변환 적용\n",
    "# height, width = img_query.shape[:2]\n",
    "# M = cv2.getRotationMatrix2D(center = (width/2, height/2),\n",
    "#                             angle = -90, \n",
    "#                             scale = 1.0) #각도 회전(반시계 방향으로 회전함)하고 크기를 변환함\n",
    "# img_query = cv2.warpAffine(src = img_query, \n",
    "#                            M = M,\n",
    "#                            dsize = (width, height))\n",
    "\n",
    "img_train = cv2.imread('box_in_scene.png')  # train image\n",
    "gray_query = cv2.cvtColor(img_query, cv2.COLOR_BGR2GRAY)\n",
    "gray_train = cv2.cvtColor(img_train, cv2.COLOR_BGR2GRAY)\n",
    "\n",
    "## SIFT 검출기 생성\n",
    "sift = cv2.xfeatures2d.SIFT_create()\n",
    "\n",
    "## SIFT 기반 keypoint 검출 및 descriptor 생성\n",
    "kp_query, des_query = sift.detectAndCompute(image = gray_query,\n",
    "                                  mask = None)\n",
    "kp_train, des_train = sift.detectAndCompute(gray_train, None)\n",
    "\n",
    "## BFMatcher 객체 생성\n",
    "bf = cv2.BFMatcher(normType = cv2.NORM_L2,\n",
    "                   crossCheck = False)\n",
    "\n",
    "## descriptor 간 매칭 수행\n",
    "matches = bf.match(queryDescriptors = des_query,\n",
    "                   trainDescriptors = des_train)\n",
    "\n",
    "## distance를 기준으로 오름차순 정렬\n",
    "matches = sorted(matches, key = lambda x:x.distance)\n",
    "\n",
    "## 첫 10개의 매칭만 그리기\n",
    "## https://docs.opencv.org/2.4/modules/features2d/doc/drawing_function_of_keypoints_and_matches.html#drawmatches\n",
    "res = cv2.drawMatches(img1 = img_query,\n",
    "                      keypoints1 = kp_query,\n",
    "                      img2 = img_train,\n",
    "                      keypoints2 = kp_train,\n",
    "                      matches1to2 = matches[:10],\n",
    "                      outImg = None,\n",
    "                      flags = 2)\n",
    "\n",
    "cv2.imshow('result', res)\n",
    "cv2.waitKey(0)\n",
    "\n",
    "cv2.destroyAllWindows()"
   ]
  }
 ],
 "metadata": {
  "kernelspec": {
   "display_name": "Python 3",
   "language": "python",
   "name": "python3"
  },
  "language_info": {
   "codemirror_mode": {
    "name": "ipython",
    "version": 3
   },
   "file_extension": ".py",
   "mimetype": "text/x-python",
   "name": "python",
   "nbconvert_exporter": "python",
   "pygments_lexer": "ipython3",
   "version": "3.8.8"
  }
 },
 "nbformat": 4,
 "nbformat_minor": 2
}
