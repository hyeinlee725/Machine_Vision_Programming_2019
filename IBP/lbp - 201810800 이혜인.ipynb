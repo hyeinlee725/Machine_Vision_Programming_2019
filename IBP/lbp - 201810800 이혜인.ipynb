{
 "cells": [
  {
   "cell_type": "markdown",
   "metadata": {},
   "source": [
    "## 4) Homework ( ~ 11/18 12:00)"
   ]
  },
  {
   "cell_type": "code",
   "execution_count": 1,
   "metadata": {},
   "outputs": [],
   "source": [
    "import numpy as np\n",
    "\n",
    "def solution(img):\n",
    "    '''\n",
    "    <조건 1>\n",
    "    패턴 생성 순서 = [4 3 2\n",
    "                      5 - 1\n",
    "                      6 7 8] #패턴 이 순서로 생성(반시계 방향)  \n",
    "                      \n",
    "    2^7   2^6   2^5   2^4   2^3   2^2   2^1   2^0\n",
    "     8     7     6     5     4     3     2     1\n",
    "    \n",
    "    <조건 2>\n",
    "    if neighbor_pixel > center: #비트열은 이 부호를 사용\n",
    "        1\n",
    "    else:\n",
    "        0\n",
    "    '''   \n",
    "    threshold = img[1][1] #threshold값 설정\n",
    "    #LBP패턴 생성\n",
    "    for i in range(0,3):\n",
    "        for j in range(0,3):\n",
    "            #<조건 2>에 따라서\n",
    "            if(img[i][j] > threshold): #img에 있는 값이 threshold보다 크면\n",
    "                img[i][j] = 1 #1로 바꾸기\n",
    "            else: #그렇지 않으면\n",
    "                img[i][j] = 0 #0으로 바꾸기\n",
    "    decimal_num = img * np.array([[pow(2,3), pow(2,2), pow(2,1)], #위의 <조건 1>에 따라서 패턴 생성(10진수로 바꾸기)\n",
    "                                  [pow(2,4), 0, pow(2,0)],\n",
    "                                  [pow(2,5), pow(2,6), pow(2,7)]])\n",
    "    sum_num = sum(decimal_num) #10진수로 바꾼 값을 합하기\n",
    "    result = sum(sum_num) #하나의 수로 출력\n",
    "    return result"
   ]
  },
  {
   "cell_type": "code",
   "execution_count": 2,
   "metadata": {},
   "outputs": [
    {
     "name": "stdout",
     "output_type": "stream",
     "text": [
      "139\n",
      "64\n"
     ]
    }
   ],
   "source": [
    "## test case 1\n",
    "img1 = np.array([[ 30,  26,  34],\n",
    "                 [ 21,  26,  28],\n",
    "                 [ 23,  22,  35]])\n",
    "out1 = solution(img1)\n",
    "print(out1)\n",
    "\n",
    "## test case 2\n",
    "img2 = np.array([[21, 20, 19],\n",
    "                 [20, 22, 20],\n",
    "                 [22, 24, 22]])\n",
    "out2 = solution(img2)\n",
    "print(out2)"
   ]
  }
 ],
 "metadata": {
  "kernelspec": {
   "display_name": "Python 3",
   "language": "python",
   "name": "python3"
  },
  "language_info": {
   "codemirror_mode": {
    "name": "ipython",
    "version": 3
   },
   "file_extension": ".py",
   "mimetype": "text/x-python",
   "name": "python",
   "nbconvert_exporter": "python",
   "pygments_lexer": "ipython3",
   "version": "3.7.3"
  }
 },
 "nbformat": 4,
 "nbformat_minor": 2
}
