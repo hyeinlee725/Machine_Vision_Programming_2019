{
 "cells": [
  {
   "cell_type": "code",
   "execution_count": 1,
   "metadata": {},
   "outputs": [],
   "source": [
    "import numpy as np\n",
    "\n",
    "def solution(img):\n",
    "    \"\"\"\n",
    "    3×3 이미지를 입력 받아 '가운데 픽셀' 관점에서\n",
    "    1개의 LBP 패턴을 생성한 후 \n",
    "    패턴의 값을 10진수 값으로 반환해주는 함수 작성\n",
    "    \n",
    "    <조건 1>\n",
    "    패턴 생성 순서 = [4 3 2\n",
    "                      5 - 1\n",
    "                      6 7 8]    \n",
    "    \n",
    "    비트열 자리:    2^7   2^6   2^5   2^4   2^3   2^2   2^1   2^0\n",
    "    패턴 순서:       8     7     6     5     4     3     2     1\n",
    "     \n",
    "     \n",
    "    <조건 2>\n",
    "    if neighbor_pixel > center:\n",
    "        1\n",
    "    else:\n",
    "        0\n",
    "    \"\"\"   \n",
    "    center = img[1,1]\n",
    "    \n",
    "    pattern = 0\n",
    "    pattern = pattern | (1<<0) if img[1,2] > center else pattern\n",
    "    pattern = pattern | (1<<1) if img[0,2] > center else pattern\n",
    "    pattern = pattern | (1<<2) if img[0,1] > center else pattern\n",
    "    pattern = pattern | (1<<3) if img[0,0] > center else pattern\n",
    "    pattern = pattern | (1<<4) if img[1,0] > center else pattern\n",
    "    pattern = pattern | (1<<5) if img[2,0] > center else pattern\n",
    "    pattern = pattern | (1<<6) if img[2,1] > center else pattern\n",
    "    pattern = pattern | (1<<7) if img[2,2] > center else pattern\n",
    "    \n",
    "    '''\n",
    "    참고로, 코드 (1)과 (2)는 동일한 기능의 코드임\n",
    "    \n",
    "    1)      pattern = pattern | (1<<7) if img[2,2] > center else pattern\n",
    "    \n",
    "    2)      if img[2,2] > center:\n",
    "                pattern = pattern | (1<<7)  \n",
    "            else:\n",
    "                pattern = pattern\n",
    "    '''\n",
    "    \n",
    "    return pattern"
   ]
  },
  {
   "cell_type": "code",
   "execution_count": 2,
   "metadata": {},
   "outputs": [
    {
     "name": "stdout",
     "output_type": "stream",
     "text": [
      "139\n",
      "64\n"
     ]
    }
   ],
   "source": [
    "## test case 1\n",
    "img1 = np.array([[ 30,  26,  34],\n",
    "                 [ 21,  26,  28],\n",
    "                 [ 23,  22,  35]])\n",
    "out1 = solution(img1)\n",
    "print(out1)\n",
    "\n",
    "## test case 2\n",
    "img2 = np.array([[21, 20, 19],\n",
    "                 [20, 22, 20],\n",
    "                 [22, 24, 22]])\n",
    "out2 = solution(img2)\n",
    "print(out2)"
   ]
  }
 ],
 "metadata": {
  "kernelspec": {
   "display_name": "Python 3",
   "language": "python",
   "name": "python3"
  },
  "language_info": {
   "codemirror_mode": {
    "name": "ipython",
    "version": 3
   },
   "file_extension": ".py",
   "mimetype": "text/x-python",
   "name": "python",
   "nbconvert_exporter": "python",
   "pygments_lexer": "ipython3",
   "version": "3.7.3"
  }
 },
 "nbformat": 4,
 "nbformat_minor": 2
}
