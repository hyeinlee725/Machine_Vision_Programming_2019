{
 "cells": [
  {
   "cell_type": "markdown",
   "metadata": {},
   "source": [
    "## 4) Write your own codes for Lane Detection"
   ]
  },
  {
   "cell_type": "code",
   "execution_count": 15,
   "metadata": {},
   "outputs": [],
   "source": [
    "import numpy as np\n",
    "import cv2\n",
    "\n",
    "def region_of_interest(img, vertices):\n",
    "    mask = np.zeros_like(img)\n",
    "    cv2.fillPoly(mask, vertices, 255)\n",
    "    \n",
    "    return cv2.bitwise_and(img, mask)"
   ]
  },
  {
   "cell_type": "code",
   "execution_count": 16,
   "metadata": {},
   "outputs": [],
   "source": [
    "def full_pipeline(img):\n",
    "    height, width = img.shape[:2]\n",
    "    \n",
    "    vertices = np.array([[(50, height),\n",
    "                          (width/2-45, height/2+60), \n",
    "                          (width/2+45, height/2+60), \n",
    "                          (width-50,height)]], dtype='int')\n",
    "    \n",
    "    \n",
    "    '''\n",
    "    To do\n",
    "    '''\n",
    "    def hough_line(img, rho, theta, threshold, min_len, max_gap): # 허프 변환하기\n",
    "        lines = cv2.HoughLinesP(img, rho, theta, threshold, np.array([]), minLineLength=min_len, maxLineGap=max_gap)\n",
    "        #HoughLinesP함수를 사용해서 허프 변환\n",
    "        line_img = np.zeros((img.shape[0], img.shape[1], 3), dtype = np.uint8)\n",
    "        draw_line(line_img, lines)#선 그리기 함수 이용\n",
    "        return line_img\n",
    "    \n",
    "    def draw_line(img, lines, color = [0, 0, 255], thickness = 2): # 빨간색 선 그리기\n",
    "        for line in lines:\n",
    "            for x1,y1,x2,y2 in line:\n",
    "                cv2.line(img, (x1, y1), (x2, y2), color, thickness)#범위 내에 라인 그리기\n",
    "    \n",
    "    gray_img = cv2.cvtColor(img, cv2.COLOR_RGB2GRAY)#영상을 흑백영상으로 만들기\n",
    "    img_canny = cv2.Canny(gray_img, 100, 200)#Canny를 이용해서 에지 검출\n",
    "    roi_img = region_of_interest(img_canny, vertices)#지정범위 내에 에지만 검출하기 위해 범위 설정\n",
    "    hough_img = hough_line(roi_img, 1, 1 * np.pi/180, 30, 10, 20)#허프 변환을 통해 라인 그리기\n",
    "    result = cv2.addWeighted(hough_img, 1, img, 1.0, 0.0)#원본 영상에 라인 겹치기\n",
    "    \n",
    "    return result\n"
   ]
  },
  {
   "cell_type": "code",
   "execution_count": 17,
   "metadata": {},
   "outputs": [],
   "source": [
    "listOfFiles = ['solidWhiteRight.jpg', 'solidYellowLeft.jpg']\n",
    "\n",
    "for i, file in enumerate(listOfFiles):\n",
    "    img = cv2.imread(file)\n",
    "    \n",
    "    result = full_pipeline(img)\n",
    "    cv2.imshow('lane detection', result)\n",
    "    cv2.waitKey(0) \n",
    "    \n",
    "cv2.destroyAllWindows()"
   ]
  },
  {
   "cell_type": "markdown",
   "metadata": {},
   "source": [
    "# ※ Further improvements"
   ]
  },
  {
   "cell_type": "code",
   "execution_count": 18,
   "metadata": {},
   "outputs": [],
   "source": [
    "import numpy as np\n",
    "import cv2\n",
    "\n",
    "def region_of_interest(img, vertices):\n",
    "    mask = np.zeros_like(img)\n",
    "    cv2.fillPoly(mask, vertices, 255)\n",
    "    \n",
    "    return cv2.bitwise_and(img, mask)"
   ]
  },
  {
   "cell_type": "code",
   "execution_count": 19,
   "metadata": {},
   "outputs": [],
   "source": [
    "def improved_pipeline(img):\n",
    "    \n",
    "    height, width = img.shape[:2]\n",
    "    \n",
    "    vertices = np.array([[(50, height),\n",
    "                          (width/2-45, height/2+60), \n",
    "                          (width/2+45, height/2+60), \n",
    "                          (width-50,height)]], dtype='int')\n",
    "    '''\n",
    "    To do\n",
    "    '''\n",
    "    def hough_line(img, rho, theta, threshold, min_len, max_gap): # 허프 변환하기\n",
    "        lines = cv2.HoughLinesP(img, rho, theta, threshold, np.array([]), minLineLength=min_len, maxLineGap=max_gap)\n",
    "        #HoughLinesP함수를 사용해서 허프 변환\n",
    "        return lines\n",
    "    \n",
    "    def draw_line(img, lines, color = [0, 0, 255], thickness = 2): # 빨간색 선 그리기\n",
    "        for line in lines:\n",
    "            for x1,y1,x2,y2 in line:\n",
    "                cv2.line(img, (x1, y1), (x2, y2), color, thickness)#범위 내에 라인 그리기\n",
    "    \n",
    "    gray_img = cv2.cvtColor(img, cv2.COLOR_RGB2GRAY)#영상을 흑백영상으로 만들기\n",
    "    blur_img = cv2.GaussianBlur(gray_img, (3, 3), 0)#GaussianBlur를 통해서 영상 블러처리\n",
    "    img_canny = cv2.Canny(blur_img, 100, 200)#Canny를 이용해서 에지 검출\n",
    "    roi_img = region_of_interest(img_canny, vertices)#지정범위 내에 에지만 검출하기 위해 범위 설정\n",
    "    hough_img = hough_line(roi_img, 1, 1 * np.pi/180, 30, 10, 20)#허프 변환을 통해 라인 그리기\n",
    "    \n",
    "    hough_img = np.squeeze(hough_img)#hough_img를 np.squeeze를 통해 배열에서 1차원 항목제거\n",
    "    slope = (np.arctan2(hough_img[:,1] - hough_img[:,3], hough_img[:,0] - hough_img[:,2]) * 180) / np.pi# 기울기 구하기\n",
    "    \n",
    "    # 수평 기울기 제한\n",
    "    hough_img = hough_img[np.abs(slope)<150]#150미만으로 기울기 제한\n",
    "    slope = slope[np.abs(slope)<150]\n",
    "    \n",
    "    # 수직 기울기 제한\n",
    "    hough_img = hough_img[np.abs(slope)>85]#85초과로 기울기 제한\n",
    "    slope = slope[np.abs(slope)>85]\n",
    "    \n",
    "    # 필터링된 직선 버리기(왼쪽, 오른쪽 나눠서 진행)\n",
    "    left = hough_img[(slope>0),:]\n",
    "    right = hough_img[(slope<0),:]\n",
    "    temp = np.zeros((img.shape[0], img.shape[1], 3), dtype=np.uint8)\n",
    "    left = left[:,None]\n",
    "    right = right[:,None]\n",
    "    \n",
    "    # 직선 그리기(왼쪽, 오른쪽 각각 그리기)\n",
    "    draw_line(temp, left)\n",
    "    draw_line(temp, right)\n",
    "\n",
    "    result = cv2.addWeighted(temp, 1, img, 1.0, 0.0)#원본 영상에 라인 겹치기\n",
    "\n",
    "\n",
    "    return result"
   ]
  },
  {
   "cell_type": "code",
   "execution_count": 20,
   "metadata": {},
   "outputs": [],
   "source": [
    "listOfFiles = ['solidWhiteRight.jpg', 'solidYellowLeft.jpg', 'challenge.jpg']\n",
    "\n",
    "for i, file in enumerate(listOfFiles):\n",
    "    img = cv2.imread(file)\n",
    "    \n",
    "    result = improved_pipeline(img)\n",
    "    cv2.imshow('lane detection', result)\n",
    "    cv2.waitKey(0) \n",
    "    \n",
    "cv2.destroyAllWindows()"
   ]
  }
 ],
 "metadata": {
  "anaconda-cloud": {},
  "kernelspec": {
   "display_name": "Python 3",
   "language": "python",
   "name": "python3"
  },
  "language_info": {
   "codemirror_mode": {
    "name": "ipython",
    "version": 3
   },
   "file_extension": ".py",
   "mimetype": "text/x-python",
   "name": "python",
   "nbconvert_exporter": "python",
   "pygments_lexer": "ipython3",
   "version": "3.7.3"
  }
 },
 "nbformat": 4,
 "nbformat_minor": 1
}
